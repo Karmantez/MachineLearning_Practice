{
 "cells": [
  {
   "cell_type": "markdown",
   "metadata": {},
   "source": [
    "**실제값을 Y=4X+6 시뮬레이션하는 데이터 값 생성**"
   ]
  },
  {
   "cell_type": "code",
   "execution_count": 1,
   "metadata": {},
   "outputs": [],
   "source": [
    "import numpy as np\n",
    "import matplotlib.pyplot as plt\n",
    "%matplotlib inline"
   ]
  },
  {
   "cell_type": "code",
   "execution_count": 26,
   "metadata": {},
   "outputs": [],
   "source": [
    "from sklearn.linear_model import LinearRegression"
   ]
  },
  {
   "cell_type": "code",
   "execution_count": 2,
   "metadata": {},
   "outputs": [],
   "source": [
    "np.random.seed(0)"
   ]
  },
  {
   "cell_type": "code",
   "execution_count": 3,
   "metadata": {},
   "outputs": [],
   "source": [
    "# y = 4x + 6 식을 근사(w1 = 4, w0 = 6), random 값은 Noise를 위해 만듬\n",
    "X = 2 * np.random.rand(100, 1)\n",
    "y = 6 + 4 * X + np.random.randn(100, 1)"
   ]
  },
  {
   "cell_type": "code",
   "execution_count": 4,
   "metadata": {},
   "outputs": [
    {
     "name": "stdout",
     "output_type": "stream",
     "text": [
      "[[1.09762701]\n",
      " [1.43037873]\n",
      " [1.20552675]\n",
      " [1.08976637]\n",
      " [0.8473096 ]\n",
      " [1.29178823]\n",
      " [0.87517442]\n",
      " [1.783546  ]\n",
      " [1.92732552]\n",
      " [0.76688304]\n",
      " [1.58345008]\n",
      " [1.05778984]\n",
      " [1.13608912]\n",
      " [1.85119328]\n",
      " [0.14207212]\n",
      " [0.1742586 ]\n",
      " [0.04043679]\n",
      " [1.66523969]\n",
      " [1.5563135 ]\n",
      " [1.7400243 ]\n",
      " [1.95723668]\n",
      " [1.59831713]\n",
      " [0.92295872]\n",
      " [1.56105835]\n",
      " [0.23654885]\n",
      " [1.27984204]\n",
      " [0.28670657]\n",
      " [1.88933783]\n",
      " [1.04369664]\n",
      " [0.82932388]\n",
      " [0.52911122]\n",
      " [1.54846738]\n",
      " [0.91230066]\n",
      " [1.1368679 ]\n",
      " [0.0375796 ]\n",
      " [1.23527099]\n",
      " [1.22419145]\n",
      " [1.23386799]\n",
      " [1.88749616]\n",
      " [1.3636406 ]\n",
      " [0.7190158 ]\n",
      " [0.87406391]\n",
      " [1.39526239]\n",
      " [0.12045094]\n",
      " [1.33353343]\n",
      " [1.34127574]\n",
      " [0.42076512]\n",
      " [0.2578526 ]\n",
      " [0.6308567 ]\n",
      " [0.72742154]\n",
      " [1.14039354]\n",
      " [0.87720303]\n",
      " [1.97674768]\n",
      " [0.20408962]\n",
      " [0.41775351]\n",
      " [0.32261904]\n",
      " [1.30621665]\n",
      " [0.50658321]\n",
      " [0.93262155]\n",
      " [0.48885118]\n",
      " [0.31793917]\n",
      " [0.22075028]\n",
      " [1.31265918]\n",
      " [0.2763659 ]\n",
      " [0.39316472]\n",
      " [0.73745034]\n",
      " [1.64198646]\n",
      " [0.19420255]\n",
      " [1.67588981]\n",
      " [0.19219682]\n",
      " [1.95291893]\n",
      " [0.9373024 ]\n",
      " [1.95352218]\n",
      " [1.20969104]\n",
      " [1.47852716]\n",
      " [0.07837558]\n",
      " [0.56561393]\n",
      " [0.24039312]\n",
      " [0.5922804 ]\n",
      " [0.23745544]\n",
      " [0.63596636]\n",
      " [0.82852599]\n",
      " [0.12829499]\n",
      " [1.38494424]\n",
      " [1.13320291]\n",
      " [0.53077898]\n",
      " [1.04649611]\n",
      " [0.18788102]\n",
      " [1.15189299]\n",
      " [1.8585924 ]\n",
      " [0.6371379 ]\n",
      " [1.33482076]\n",
      " [0.26359572]\n",
      " [1.43265441]\n",
      " [0.57881219]\n",
      " [0.36638272]\n",
      " [1.17302587]\n",
      " [0.04021509]\n",
      " [1.65788006]\n",
      " [0.00939095]]\n",
      "------------------------------\n",
      "[[ 9.22535819]\n",
      " [12.62234142]\n",
      " [11.28776945]\n",
      " [ 8.82282178]\n",
      " [10.87749059]\n",
      " [13.06304208]\n",
      " [10.67947726]\n",
      " [12.95425917]\n",
      " [12.63854946]\n",
      " [10.12198388]\n",
      " [11.93062336]\n",
      " [11.45360443]\n",
      " [10.75263147]\n",
      " [14.38141214]\n",
      " [ 6.92465486]\n",
      " [ 7.40360757]\n",
      " [ 6.1722472 ]\n",
      " [14.44682926]\n",
      " [12.3521661 ]\n",
      " [13.36208655]\n",
      " [15.71209743]\n",
      " [11.04550945]\n",
      " [ 8.4213499 ]\n",
      " [13.21363012]\n",
      " [ 5.773072  ]\n",
      " [13.06298936]\n",
      " [ 6.73320732]\n",
      " [12.80989652]\n",
      " [12.0977286 ]\n",
      " [10.79781031]\n",
      " [ 9.98400386]\n",
      " [13.09991417]\n",
      " [ 8.78797697]\n",
      " [12.45753654]\n",
      " [ 5.88231503]\n",
      " [11.74354037]\n",
      " [11.84401775]\n",
      " [10.78046188]\n",
      " [14.164064  ]\n",
      " [12.37676906]\n",
      " [ 9.25248874]\n",
      " [ 8.39685484]\n",
      " [11.87928774]\n",
      " [ 7.80818967]\n",
      " [10.63956586]\n",
      " [11.21546842]\n",
      " [ 7.24790694]\n",
      " [ 8.88067411]\n",
      " [ 9.19572156]\n",
      " [ 9.317148  ]\n",
      " [ 9.79165809]\n",
      " [10.0480613 ]\n",
      " [13.23265804]\n",
      " [ 6.84818904]\n",
      " [ 7.03516797]\n",
      " [ 7.96690944]\n",
      " [11.80145742]\n",
      " [ 7.81803406]\n",
      " [10.1264929 ]\n",
      " [ 6.86234323]\n",
      " [ 5.78049908]\n",
      " [ 7.32239283]\n",
      " [11.41731021]\n",
      " [ 7.74049505]\n",
      " [ 9.95580367]\n",
      " [ 9.89428085]\n",
      " [11.65512361]\n",
      " [ 7.89382649]\n",
      " [11.38765185]\n",
      " [ 6.30720266]\n",
      " [13.74343411]\n",
      " [11.46255233]\n",
      " [13.06933388]\n",
      " [10.01232562]\n",
      " [11.81565611]\n",
      " [ 5.65002405]\n",
      " [ 9.38909162]\n",
      " [ 5.88164098]\n",
      " [ 7.22165293]\n",
      " [ 6.51200171]\n",
      " [ 8.04583298]\n",
      " [11.24363601]\n",
      " [ 7.46260078]\n",
      " [11.6273282 ]\n",
      " [ 9.30737611]\n",
      " [ 8.9674789 ]\n",
      " [ 9.18576908]\n",
      " [ 5.20675299]\n",
      " [11.79560176]\n",
      " [13.75131219]\n",
      " [ 9.46941044]\n",
      " [11.65801069]\n",
      " [ 7.91121351]\n",
      " [11.07959204]\n",
      " [ 7.2810059 ]\n",
      " [ 8.14712541]\n",
      " [ 9.88869381]\n",
      " [ 5.47131059]\n",
      " [12.17598773]\n",
      " [ 6.05504297]]\n"
     ]
    }
   ],
   "source": [
    "print(X)\n",
    "print('-' * 30)\n",
    "print(y)"
   ]
  },
  {
   "cell_type": "code",
   "execution_count": 5,
   "metadata": {},
   "outputs": [
    {
     "data": {
      "text/plain": [
       "<matplotlib.collections.PathCollection at 0x23679b25788>"
      ]
     },
     "execution_count": 5,
     "metadata": {},
     "output_type": "execute_result"
    },
    {
     "data": {
      "image/png": "[encoded data removed]",
      "text/plain": [
       "<Figure size 432x288 with 1 Axes>"
      ]
     },
     "metadata": {
      "needs_background": "light"
     },
     "output_type": "display_data"
    }
   ],
   "source": [
    "# X, y 데이터 셋 scatter plot으로 시각화\n",
    "plt.scatter(X, y)"
   ]
  },
  {
   "cell_type": "code",
   "execution_count": 6,
   "metadata": {},
   "outputs": [
    {
     "data": {
      "text/plain": [
       "((100, 1), (100, 1))"
      ]
     },
     "execution_count": 6,
     "metadata": {},
     "output_type": "execute_result"
    }
   ],
   "source": [
    "X.shape, y.shape"
   ]
  },
  {
   "cell_type": "code",
   "execution_count": 7,
   "metadata": {},
   "outputs": [],
   "source": [
    "# w1 과 w0 를 업데이트 할 w1_update, w0_update를 반환. \n",
    "def get_weight_updates(w1, w0, X, y, learning_rate=0.01):\n",
    "    N = len(y)\n",
    "    # 먼저 w1_update, w0_update를 각각 w1, w0의 shape와 동일한 크기를 가진 0 값으로 초기화\n",
    "    w1_update = np.zeros_like(w1)\n",
    "    w0_update = np.zeros_like(w0)\n",
    "    # 예측 배열 계산하고 예측과 실제 값의 차이 계산\n",
    "        \n",
    "    y_pred = np.dot(X, w1.T) + w0\n",
    "    diff = y-y_pred\n",
    "         \n",
    "    # w0_update를 dot 행렬 연산으로 구하기 위해 모두 1값을 가진 행렬 생성 \n",
    "    w0_factors = np.ones((N,1))\n",
    "\n",
    "    # w1과 w0을 업데이트할 w1_update와 w0_update 계산\n",
    "    w1_update = -(2/N)*learning_rate*(np.dot(X.T, diff))\n",
    "    w0_update = -(2/N)*learning_rate*(np.dot(w0_factors.T, diff))    \n",
    "    \n",
    "    return w1_update, w0_update"
   ]
  },
  {
   "cell_type": "code",
   "execution_count": 8,
   "metadata": {},
   "outputs": [
    {
     "name": "stdout",
     "output_type": "stream",
     "text": [
      "(100, 1)\n",
      "(1, 1) (1, 1)\n"
     ]
    },
    {
     "data": {
      "text/plain": [
       "(array([[0.]]), array([[0.]]))"
      ]
     },
     "execution_count": 8,
     "metadata": {},
     "output_type": "execute_result"
    }
   ],
   "source": [
    "w0 = np.zeros((1,1))\n",
    "w1 = np.zeros((1,1))\n",
    "y_pred = np.dot(X, w1.T) + w0\n",
    "diff = y-y_pred\n",
    "print(diff.shape)\n",
    "w0_factors = np.ones((100,1))\n",
    "w1_update = -(2/100)*0.01*(np.dot(X.T, diff))\n",
    "w0_update = -(2/100)*0.01*(np.dot(w0_factors.T, diff))   \n",
    "print(w1_update.shape, w0_update.shape)\n",
    "w1, w0"
   ]
  },
  {
   "cell_type": "code",
   "execution_count": 9,
   "metadata": {},
   "outputs": [],
   "source": [
    "# 입력 인자 iters로 주어진 횟수만큼 반복적으로 w1과 w0를 업데이트 적용함. \n",
    "def gradient_descent_steps(X, y, iters=10000):\n",
    "    # w0와 w1을 모두 0으로 초기화. \n",
    "    w0 = np.zeros((1,1))\n",
    "    w1 = np.zeros((1,1))\n",
    "    \n",
    "    # 인자로 주어진 iters 만큼 반복적으로 get_weight_updates() 호출하여 w1, w0 업데이트 수행. \n",
    "    for ind in range(iters):\n",
    "        w1_update, w0_update = get_weight_updates(w1, w0, X, y, learning_rate=0.01)\n",
    "        w1 = w1 - w1_update\n",
    "        w0 = w0 - w0_update\n",
    "              \n",
    "    return w1, w0"
   ]
  },
  {
   "cell_type": "code",
   "execution_count": 10,
   "metadata": {},
   "outputs": [
    {
     "name": "stdout",
     "output_type": "stream",
     "text": [
      "w1:4.022 w0:6.162\n",
      "Gradient Descent Total Cost:0.9935\n"
     ]
    }
   ],
   "source": [
    "def get_cost(y, y_pred):\n",
    "    N = len(y) \n",
    "    cost = np.sum(np.square(y - y_pred))/N\n",
    "    return cost\n",
    "\n",
    "w1, w0 = gradient_descent_steps(X, y, iters=1000)\n",
    "print(\"w1:{0:.3f} w0:{1:.3f}\".format(w1[0,0], w0[0,0]))\n",
    "y_pred = w1[0,0] * X + w0\n",
    "print('Gradient Descent Total Cost:{0:.4f}'.format(get_cost(y, y_pred)))"
   ]
  },
  {
   "cell_type": "code",
   "execution_count": 11,
   "metadata": {},
   "outputs": [
    {
     "data": {
      "text/plain": [
       "[<matplotlib.lines.Line2D at 0x23679f55c48>]"
      ]
     },
     "execution_count": 11,
     "metadata": {},
     "output_type": "execute_result"
    },
    {
     "data": {
      "image/png": "[encoded data removed]",
      "text/plain": [
       "<Figure size 432x288 with 1 Axes>"
      ]
     },
     "metadata": {
      "needs_background": "light"
     },
     "output_type": "display_data"
    }
   ],
   "source": [
    "plt.scatter(X, y)\n",
    "plt.plot(X,y_pred)"
   ]
  },
  {
   "cell_type": "code",
   "execution_count": 12,
   "metadata": {},
   "outputs": [],
   "source": [
    "def stochastic_gradient_descent_steps(X, y, batch_size=10, iters=1000):\n",
    "    w0 = np.zeros((1,1))\n",
    "    w1 = np.zeros((1,1))\n",
    "    prev_cost = 100000\n",
    "    iter_index =0\n",
    "    \n",
    "    for ind in range(iters):\n",
    "        np.random.seed(ind)\n",
    "        # 전체 X, y 데이터에서 랜덤하게 batch_size만큼 데이터 추출하여 sample_X, sample_y로 저장\n",
    "        stochastic_random_index = np.random.permutation(X.shape[0])\n",
    "        sample_X = X[stochastic_random_index[0:batch_size]]\n",
    "        sample_y = y[stochastic_random_index[0:batch_size]]\n",
    "        # 랜덤하게 batch_size만큼 추출된 데이터 기반으로 w1_update, w0_update 계산 후 업데이트\n",
    "        w1_update, w0_update = get_weight_updates(w1, w0, sample_X, sample_y, learning_rate=0.01)\n",
    "        w1 = w1 - w1_update\n",
    "        w0 = w0 - w0_update\n",
    "    \n",
    "    return w1, w0"
   ]
  },
  {
   "cell_type": "code",
   "execution_count": 13,
   "metadata": {},
   "outputs": [
    {
     "data": {
      "text/plain": [
       "array([66, 71, 54, 88, 82, 12, 36, 46, 14, 67, 10,  3, 62, 29, 97, 69, 70,\n",
       "       93, 31, 73, 60, 96, 28, 27, 21, 19, 33, 78, 32, 94,  1, 41, 40, 76,\n",
       "       37, 87, 24, 23, 50,  2, 47, 20, 77, 17, 56, 64, 68, 25, 15, 22, 16,\n",
       "       98, 63, 92, 86, 38,  6, 57, 95, 44,  9, 42, 81, 99, 35, 84, 59, 48,\n",
       "       75, 65, 85, 90, 55, 43, 58, 89, 30, 80, 34, 18, 51, 49, 52, 74, 26,\n",
       "       45, 39,  4, 11, 53, 91, 79,  8,  0,  5, 13, 61, 72,  7, 83])"
      ]
     },
     "execution_count": 13,
     "metadata": {},
     "output_type": "execute_result"
    }
   ],
   "source": [
    "np.random.permutation(X.shape[0])"
   ]
  },
  {
   "cell_type": "code",
   "execution_count": 14,
   "metadata": {},
   "outputs": [
    {
     "name": "stdout",
     "output_type": "stream",
     "text": [
      "w1: 4.028 w0: 6.156\n",
      "Stochastic Gradient Descent Total Cost:0.9937\n"
     ]
    }
   ],
   "source": [
    "w1, w0 = stochastic_gradient_descent_steps(X, y, iters=1000)\n",
    "print(\"w1:\",round(w1[0,0],3),\"w0:\",round(w0[0,0],3))\n",
    "y_pred = w1[0,0] * X + w0\n",
    "print('Stochastic Gradient Descent Total Cost:{0:.4f}'.format(get_cost(y, y_pred)))"
   ]
  },
  {
   "cell_type": "code",
   "execution_count": 15,
   "metadata": {},
   "outputs": [],
   "source": [
    "from sklearn.preprocessing import PolynomialFeatures"
   ]
  },
  {
   "cell_type": "code",
   "execution_count": 16,
   "metadata": {},
   "outputs": [],
   "source": [
    "X = np.arange(4).reshape(2, 2)"
   ]
  },
  {
   "cell_type": "code",
   "execution_count": 17,
   "metadata": {},
   "outputs": [
    {
     "data": {
      "text/plain": [
       "array([[0, 1],\n",
       "       [2, 3]])"
      ]
     },
     "execution_count": 17,
     "metadata": {},
     "output_type": "execute_result"
    }
   ],
   "source": [
    "X"
   ]
  },
  {
   "cell_type": "code",
   "execution_count": 23,
   "metadata": {},
   "outputs": [],
   "source": [
    "poly = PolynomialFeatures(degree=2)\n",
    "poly.fit(X)\n",
    "poly_ftr = poly.transform(X)"
   ]
  },
  {
   "cell_type": "code",
   "execution_count": 24,
   "metadata": {},
   "outputs": [
    {
     "data": {
      "text/plain": [
       "array([[1., 0., 1., 0., 0., 1.],\n",
       "       [1., 2., 3., 4., 6., 9.]])"
      ]
     },
     "execution_count": 24,
     "metadata": {},
     "output_type": "execute_result"
    }
   ],
   "source": [
    "poly_ftr"
   ]
  },
  {
   "cell_type": "code",
   "execution_count": 27,
   "metadata": {},
   "outputs": [
    {
     "name": "stdout",
     "output_type": "stream",
     "text": [
      "일차 단항식 계수 feature: \n",
      " [[0 1]\n",
      " [2 3]]\n",
      "삼차 다항식 결정값: \n",
      " [  5 125]\n",
      "3차 다항식 계수 feature: \n",
      " [[ 1.  0.  1.  0.  0.  1.  0.  0.  0.  1.]\n",
      " [ 1.  2.  3.  4.  6.  9.  8. 12. 18. 27.]]\n",
      "Polynomial 회귀 계수\n",
      " [0.   0.18 0.18 0.36 0.54 0.72 0.72 1.08 1.62 2.34]\n",
      "Polynomial 회귀 Shape : (10,)\n"
     ]
    }
   ],
   "source": [
    "def polynomial_func(X):\n",
    "    y = 1 + 2*X[:,0] + 3*X[:,0]**2 + 4*X[:,1]**3 \n",
    "    return y\n",
    "\n",
    "X = np.arange(0,4).reshape(2,2)\n",
    "\n",
    "print('일차 단항식 계수 feature: \\n' ,X)\n",
    "y = polynomial_func(X)\n",
    "print('삼차 다항식 결정값: \\n', y)\n",
    "\n",
    "# 3 차 다항식 변환 \n",
    "poly_ftr = PolynomialFeatures(degree=3).fit_transform(X)\n",
    "print('3차 다항식 계수 feature: \\n',poly_ftr)\n",
    "\n",
    "# Linear Regression에 3차 다항식 계수 feature와 3차 다항식 결정값으로 학습 후 회귀 계수 확인\n",
    "model = LinearRegression()\n",
    "model.fit(poly_ftr,y)\n",
    "print('Polynomial 회귀 계수\\n' , np.round(model.coef_, 2))\n",
    "print('Polynomial 회귀 Shape :', model.coef_.shape)"
   ]
  },
  {
   "cell_type": "code",
   "execution_count": 29,
   "metadata": {},
   "outputs": [],
   "source": [
    "from sklearn.pipeline import Pipeline"
   ]
  },
  {
   "cell_type": "code",
   "execution_count": 31,
   "metadata": {},
   "outputs": [],
   "source": [
    "def polynomial_func(X):\n",
    "    y = 1 + 2 * X[:, 0] + 3 * X[:, 0]**2 + 4 * X[:, 1]**3\n",
    "    return y"
   ]
  },
  {
   "cell_type": "code",
   "execution_count": 38,
   "metadata": {},
   "outputs": [],
   "source": [
    "model = Pipeline([('poly', PolynomialFeatures(degree=3)),\n",
    "                   ('linear', LinearRegression())])"
   ]
  },
  {
   "cell_type": "code",
   "execution_count": 39,
   "metadata": {},
   "outputs": [
    {
     "name": "stdout",
     "output_type": "stream",
     "text": [
      "Polynomial 회귀 계수\n",
      " [0.   0.18 0.18 0.36 0.54 0.72 0.72 1.08 1.62 2.34]\n"
     ]
    }
   ],
   "source": [
    "X = np.arange(4).reshape(2,2)\n",
    "y = polynomial_func(X)\n",
    "\n",
    "model = model.fit(X, y)\n",
    "print('Polynomial 회귀 계수\\n', np.round(model.named_steps['linear'].coef_, 2))"
   ]
  },
  {
   "cell_type": "code",
   "execution_count": null,
   "metadata": {},
   "outputs": [],
   "source": []
  }
 ],
 "metadata": {
  "kernelspec": {
   "display_name": "Python 3",
   "language": "python",
   "name": "python3"
  },
  "language_info": {
   "codemirror_mode": {
    "name": "ipython",
    "version": 3
   },
   "file_extension": ".py",
   "mimetype": "text/x-python",
   "name": "python",
   "nbconvert_exporter": "python",
   "pygments_lexer": "ipython3",
   "version": "3.7.7"
  }
 },
 "nbformat": 4,
 "nbformat_minor": 4
}
